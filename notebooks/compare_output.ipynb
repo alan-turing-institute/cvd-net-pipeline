{
 "cells": [
  {
   "cell_type": "code",
   "execution_count": null,
   "id": "e5d86205",
   "metadata": {},
   "outputs": [],
   "source": [
    "import pandas as pd\n",
    "import os\n",
    "import numpy as np"
   ]
  },
  {
   "cell_type": "code",
   "execution_count": null,
   "id": "773353fe",
   "metadata": {},
   "outputs": [],
   "source": [
    "# Load the notebook data\n",
    "df_input_notebook = pd.read_csv('./Input/Input_50_9params.csv')\n",
    "\n",
    "# Load the pipeline data\n",
    "df_input_pipeline = pd.read_csv('../output/input_50_9params.csv')\n",
    "\n",
    "print(df_input_notebook.columns)\n",
    "print(df_input_pipeline.columns)\n",
    "\n",
    "df_input_notebook.compare(df_input_pipeline, keep_shape=False, keep_equal=False)\n"
   ]
  },
  {
   "cell_type": "code",
   "execution_count": null,
   "id": "eaac4009",
   "metadata": {},
   "outputs": [],
   "source": [
    "# # Load the notebook data\n",
    "# df_samples_notebook = pd.read_csv('./Outputs/Output_50_9params/br_samples.csv')\n",
    "\n",
    "# # Load the pipeline data\n",
    "# df_samples_pipeline = pd.read_csv('../output/output_50_9params/br_samples.csv')\n",
    "\n",
    "# print(df_samples_notebook.columns)\n",
    "# print(df_samples_pipeline.columns)\n",
    "\n",
    "# df_samples_notebook.compare(df_samples_pipeline, keep_shape=False, keep_equal=False)\n"
   ]
  },
  {
   "cell_type": "code",
   "execution_count": null,
   "id": "d7cee73e",
   "metadata": {},
   "outputs": [],
   "source": [
    "# Load the notebook data\n",
    "df_notebook = pd.read_csv('./Outputs/Output_50_9params_jobs_8/pressure_traces_pat/all_pressure_traces.csv')\n",
    "\n",
    "# Load the pipeline data\n",
    "df_pipeline = pd.read_csv('../output/output_50_9params/pressure_traces_pat/all_pressure_traces.csv')"
   ]
  },
  {
   "cell_type": "code",
   "execution_count": null,
   "id": "2611b45d",
   "metadata": {},
   "outputs": [],
   "source": [
    "# Compare the two DataFrames for exact match\n",
    "df_notebook.compare(df_pipeline, keep_shape=False, keep_equal=False)\n"
   ]
  },
  {
   "cell_type": "code",
   "execution_count": null,
   "id": "e7af6153",
   "metadata": {},
   "outputs": [],
   "source": [
    "# Load the notebook data\n",
    "df_notebook_raw = pd.read_csv('./Outputs/Output_50_9params_jobs_8/Output_50_raw/all_outputs_0.csv')\n",
    "\n",
    "# Load the pipeline data\n",
    "df_pipeline_raw = pd.read_csv('../output/output_50_9params/simulations/all_outputs_0.csv')\n",
    "\n",
    "# Compare the two DataFrames for exact match\n",
    "df_notebook_raw.compare(df_pipeline_raw, keep_shape=False, keep_equal=False)"
   ]
  }
 ],
 "metadata": {
  "kernelspec": {
   "display_name": "venv",
   "language": "python",
   "name": "python3"
  },
  "language_info": {
   "codemirror_mode": {
    "name": "ipython",
    "version": 3
   },
   "file_extension": ".py",
   "mimetype": "text/x-python",
   "name": "python",
   "nbconvert_exporter": "python",
   "pygments_lexer": "ipython3",
   "version": "3.12.4"
  }
 },
 "nbformat": 4,
 "nbformat_minor": 5
}
