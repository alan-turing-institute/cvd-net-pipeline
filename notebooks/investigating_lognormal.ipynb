{
 "cells": [
  {
   "cell_type": "code",
   "execution_count": 2,
   "id": "cbf149c0",
   "metadata": {},
   "outputs": [],
   "source": [
    "import json\n",
    "import os\n",
    "import numpy as np\n",
    "import pandas as pd\n",
    "from cvdnet_pipeline.simulate_data import simulate_data\n",
    "from cvdnet_pipeline.analyse_giessen import analyse_giessen\n",
    "from cvdnet_pipeline.compute_pca import compute_pca\n",
    "from cvdnet_pipeline.build_emulator import build_emulator\n",
    "from cvdnet_pipeline.calibrate_parameters import calibrate_parameters"
   ]
  },
  {
   "cell_type": "code",
   "execution_count": null,
   "id": "7d26a223",
   "metadata": {},
   "outputs": [],
   "source": [
    "input_parameters = \"parameters_pulmonary_sensitive_summarystats.json\"\n",
    "output_path = \"output_synthetic\"\n",
    "\n",
    "n_pca_components = 10\n",
    "n_params = 9\n",
    "n_samples = 64\n",
    "gaussian_sigmas = [1e-05, 1e-05, 1e-05]\n",
    "\n",
    "output_keys = [\n",
    "    \"t_max_dpdt\",\n",
    "    \"a_epad\",\n",
    "    \"epad\",\n",
    "    \"s_a_epad\",\n",
    "    \"s_epad\",\n",
    "    \"min_dpdt\",\n",
    "    \"max_dpdt\",\n",
    "    \"A_p\",\n",
    "    \"P_max\",\n",
    "    \"esp\",\n",
    "    \"sys\",\n",
    "    \"EF\",\n",
    "    \"Ees/Ea\",\n",
    "    \"iT\",\n",
    "    \"PC1\",\n",
    "    \"PC2\",\n",
    "    \"PC3\"\n",
    "]\n",
    "\n",
    "include_timeseries = 0\n",
    "epsilon_obs_scale = 0.05\n",
    "dummy_data_dir = \"dummy_data\""
   ]
  },
  {
   "cell_type": "code",
   "execution_count": null,
   "id": "f82af085",
   "metadata": {},
   "outputs": [],
   "source": [
    "simulate_data(param_path=os.path.join('./input_parameters_jsons', input_parameters),\n",
    "              n_samples=n_samples,\n",
    "              output_path=output_path,\n",
    "              sample_parameters=True)\n",
    "\n",
    "\n",
    "print(\"Step 2: Analysing Giessen (resample)\")\n",
    "analyse_giessen(file_path=output_dir_sims,\n",
    "                            data_type=data_type,\n",
    "                            gaussian_sigmas=config.get('gaussian_sigmas'),\n",
    "            )\n",
    "\n",
    "\n",
    "print(\"Step 3: Compute PCA\")\n",
    "n_pca_components = config.get(\"n_pca_components\", 10)\n",
    "            if n_pca_components is None:\n",
    "                raise ValueError(\"n_pca_components must be provided in the configuration to run PCA.\")\n",
    "\n",
    "            compute_pca(n_samples=n_samples, \n",
    "                        n_params=n_params, \n",
    "                        n_pca_components=n_pca_components,\n",
    "                        output_path=output_path,\n",
    "                        data_type=data_type)"
   ]
  }
 ],
 "metadata": {
  "kernelspec": {
   "display_name": "venv",
   "language": "python",
   "name": "python3"
  },
  "language_info": {
   "codemirror_mode": {
    "name": "ipython",
    "version": 3
   },
   "file_extension": ".py",
   "mimetype": "text/x-python",
   "name": "python",
   "nbconvert_exporter": "python",
   "pygments_lexer": "ipython3",
   "version": "3.12.7"
  }
 },
 "nbformat": 4,
 "nbformat_minor": 5
}
