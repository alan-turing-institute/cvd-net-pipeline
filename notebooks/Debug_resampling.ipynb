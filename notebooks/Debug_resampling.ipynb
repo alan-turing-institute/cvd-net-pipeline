{
 "cells": [
  {
   "cell_type": "code",
   "execution_count": 4,
   "id": "282e24dd",
   "metadata": {},
   "outputs": [],
   "source": [
    "import numpy as np  \n",
    "import pandas as pd \n",
    "from analyse_giessen import analyseGiessen\n",
    "import matplotlib.pyplot as plt"
   ]
  },
  {
   "cell_type": "code",
   "execution_count": 5,
   "id": "b287d274",
   "metadata": {},
   "outputs": [],
   "source": [
    "problem_file_dir = \"../output_synthetic/output_4096_7_params/bayesian_calibration_results/102_output_keys/calibration_20250818_155513\"\n",
    "gaussian_sigmas =  [1e-05,1e-05,1e-05]"
   ]
  },
  {
   "cell_type": "code",
   "execution_count": 6,
   "id": "664a0450",
   "metadata": {},
   "outputs": [
    {
     "name": "stdout",
     "output_type": "stream",
     "text": [
      "Processing 1450th trace\n",
      "Processing 1451th trace\n",
      "Processing 1452th trace\n",
      "Processing 1453th trace\n",
      "Processing 1454th trace\n",
      "Processing 1455th trace\n",
      "Processing 1456th trace\n",
      "Processing 1457th trace\n",
      "Processing 1458th trace\n",
      "Processing 1459th trace\n",
      "Processing 1460th trace\n",
      "Processing 1461th trace\n",
      "Processing 1462th trace\n",
      "Processing 1463th trace\n",
      "Processing 1464th trace\n",
      "Processing 1465th trace\n",
      "Processing 1466th trace\n",
      "Processing 1467th trace\n",
      "Processing 1468th trace\n",
      "Processing 1469th trace\n",
      "Processing 1470th trace\n",
      "Processing 1471th trace\n",
      "Processing 1472th trace\n",
      "Processing 1473th trace\n",
      "Processing 1474th trace\n",
      "Processing 1475th trace\n",
      "Processing 1476th trace\n",
      "Processing 1477th trace\n",
      "Processing 1478th trace\n",
      "Processing 1479th trace\n",
      "Processing 1480th trace\n",
      "Processing 1481th trace\n",
      "Processing 1482th trace\n",
      "Processing 1483th trace\n",
      "Processing 1484th trace\n",
      "Processing 1485th trace\n",
      "Processing 1486th trace\n",
      "Processing 1487th trace\n",
      "Processing 1488th trace\n",
      "Processing 1489th trace\n",
      "Processing 1490th trace\n",
      "Processing 1491th trace\n",
      "Processing 1492th trace\n",
      "Processing 1493th trace\n",
      "Processing 1494th trace\n",
      "Processing 1495th trace\n",
      "Processing 1496th trace\n",
      "Processing 1497th trace\n",
      "Processing 1498th trace\n",
      "Processing 1499th trace\n",
      "Processing 1500th trace\n",
      "Processing 1501th trace\n",
      "Processing 1502th trace\n",
      "Processing 1503th trace\n",
      "Processing 1504th trace\n"
     ]
    },
    {
     "ename": "KeyError",
     "evalue": "'[-1] not found in axis'",
     "output_type": "error",
     "traceback": [
      "\u001b[31m---------------------------------------------------------------------------\u001b[39m",
      "\u001b[31mKeyError\u001b[39m                                  Traceback (most recent call last)",
      "\u001b[36mCell\u001b[39m\u001b[36m \u001b[39m\u001b[32mIn[6]\u001b[39m\u001b[32m, line 28\u001b[39m\n\u001b[32m     26\u001b[39m ag.compute_derivatives()\n\u001b[32m     27\u001b[39m \u001b[38;5;66;03m# Should change start_at_edp bask to False\u001b[39;00m\n\u001b[32m---> \u001b[39m\u001b[32m28\u001b[39m \u001b[43mag\u001b[49m\u001b[43m.\u001b[49m\u001b[43mcompute_points_of_interest\u001b[49m\u001b[43m(\u001b[49m\u001b[43mheight\u001b[49m\u001b[43m=\u001b[49m\u001b[32;43m10\u001b[39;49m\u001b[43m,\u001b[49m\u001b[43m \u001b[49m\u001b[43muse_filter\u001b[49m\u001b[43m=\u001b[49m\u001b[38;5;28;43;01mFalse\u001b[39;49;00m\u001b[43m,\u001b[49m\u001b[43m \u001b[49m\u001b[43mstart_at_edp\u001b[49m\u001b[43m=\u001b[49m\u001b[38;5;28;43;01mFalse\u001b[39;49;00m\u001b[43m)\u001b[49m \u001b[38;5;66;03m# , export_true_derivates=True, export_true_p=True, distance=90 (we should consder adding these options)\u001b[39;00m\n\u001b[32m     29\u001b[39m beats = pd.DataFrame(ag.resample_heart_beat())\n\u001b[32m     30\u001b[39m sumstats = ag.points_df\n",
      "\u001b[36mFile \u001b[39m\u001b[32m~/Documents/GitHub/cvd-net-pipeline/venv/lib/python3.12/site-packages/AnalysisGiessen/__init__.py:247\u001b[39m, in \u001b[36manalyseGiessen.compute_points_of_interest\u001b[39m\u001b[34m(self, height, height_d2pdt2, distance, use_filter, export_true_derivates, exclusion_list, export_true_p, start_at_edp)\u001b[39m\n\u001b[32m    244\u001b[39m temp[\u001b[33m'\u001b[39m\u001b[33ma_epad_ind\u001b[39m\u001b[33m'\u001b[39m] = np.roll(temp[\u001b[33m'\u001b[39m\u001b[33ma_epad_ind\u001b[39m\u001b[33m'\u001b[39m].values, shift=-shift)\n\u001b[32m    246\u001b[39m \u001b[38;5;28;01mif\u001b[39;00m \u001b[38;5;28mself\u001b[39m.start_at_edp:  temp[\u001b[33m'\u001b[39m\u001b[33mdia_ind\u001b[39m\u001b[33m'\u001b[39m] = np.roll(temp[\u001b[33m'\u001b[39m\u001b[33mdia_ind\u001b[39m\u001b[33m'\u001b[39m].values, shift=-shift)\n\u001b[32m--> \u001b[39m\u001b[32m247\u001b[39m \u001b[43mtemp\u001b[49m\u001b[43m.\u001b[49m\u001b[43mdrop\u001b[49m\u001b[43m(\u001b[49m\u001b[38;5;28;43mlen\u001b[39;49m\u001b[43m(\u001b[49m\u001b[43mtemp\u001b[49m\u001b[43m)\u001b[49m\u001b[43m \u001b[49m\u001b[43m-\u001b[49m\u001b[43m \u001b[49m\u001b[32;43m1\u001b[39;49m\u001b[43m,\u001b[49m\u001b[43m \u001b[49m\u001b[43minplace\u001b[49m\u001b[43m=\u001b[49m\u001b[38;5;28;43;01mTrue\u001b[39;49;00m\u001b[43m)\u001b[49m\n\u001b[32m    248\u001b[39m \u001b[38;5;28;01mdel\u001b[39;00m \u001b[38;5;28mself\u001b[39m._points_df\n\u001b[32m    249\u001b[39m \u001b[38;5;28mself\u001b[39m._points_df = temp\n",
      "\u001b[36mFile \u001b[39m\u001b[32m~/Documents/GitHub/cvd-net-pipeline/venv/lib/python3.12/site-packages/pandas/core/frame.py:5581\u001b[39m, in \u001b[36mDataFrame.drop\u001b[39m\u001b[34m(self, labels, axis, index, columns, level, inplace, errors)\u001b[39m\n\u001b[32m   5433\u001b[39m \u001b[38;5;28;01mdef\u001b[39;00m\u001b[38;5;250m \u001b[39m\u001b[34mdrop\u001b[39m(\n\u001b[32m   5434\u001b[39m     \u001b[38;5;28mself\u001b[39m,\n\u001b[32m   5435\u001b[39m     labels: IndexLabel | \u001b[38;5;28;01mNone\u001b[39;00m = \u001b[38;5;28;01mNone\u001b[39;00m,\n\u001b[32m   (...)\u001b[39m\u001b[32m   5442\u001b[39m     errors: IgnoreRaise = \u001b[33m\"\u001b[39m\u001b[33mraise\u001b[39m\u001b[33m\"\u001b[39m,\n\u001b[32m   5443\u001b[39m ) -> DataFrame | \u001b[38;5;28;01mNone\u001b[39;00m:\n\u001b[32m   5444\u001b[39m \u001b[38;5;250m    \u001b[39m\u001b[33;03m\"\"\"\u001b[39;00m\n\u001b[32m   5445\u001b[39m \u001b[33;03m    Drop specified labels from rows or columns.\u001b[39;00m\n\u001b[32m   5446\u001b[39m \n\u001b[32m   (...)\u001b[39m\u001b[32m   5579\u001b[39m \u001b[33;03m            weight  1.0     0.8\u001b[39;00m\n\u001b[32m   5580\u001b[39m \u001b[33;03m    \"\"\"\u001b[39;00m\n\u001b[32m-> \u001b[39m\u001b[32m5581\u001b[39m     \u001b[38;5;28;01mreturn\u001b[39;00m \u001b[38;5;28;43msuper\u001b[39;49m\u001b[43m(\u001b[49m\u001b[43m)\u001b[49m\u001b[43m.\u001b[49m\u001b[43mdrop\u001b[49m\u001b[43m(\u001b[49m\n\u001b[32m   5582\u001b[39m \u001b[43m        \u001b[49m\u001b[43mlabels\u001b[49m\u001b[43m=\u001b[49m\u001b[43mlabels\u001b[49m\u001b[43m,\u001b[49m\n\u001b[32m   5583\u001b[39m \u001b[43m        \u001b[49m\u001b[43maxis\u001b[49m\u001b[43m=\u001b[49m\u001b[43maxis\u001b[49m\u001b[43m,\u001b[49m\n\u001b[32m   5584\u001b[39m \u001b[43m        \u001b[49m\u001b[43mindex\u001b[49m\u001b[43m=\u001b[49m\u001b[43mindex\u001b[49m\u001b[43m,\u001b[49m\n\u001b[32m   5585\u001b[39m \u001b[43m        \u001b[49m\u001b[43mcolumns\u001b[49m\u001b[43m=\u001b[49m\u001b[43mcolumns\u001b[49m\u001b[43m,\u001b[49m\n\u001b[32m   5586\u001b[39m \u001b[43m        \u001b[49m\u001b[43mlevel\u001b[49m\u001b[43m=\u001b[49m\u001b[43mlevel\u001b[49m\u001b[43m,\u001b[49m\n\u001b[32m   5587\u001b[39m \u001b[43m        \u001b[49m\u001b[43minplace\u001b[49m\u001b[43m=\u001b[49m\u001b[43minplace\u001b[49m\u001b[43m,\u001b[49m\n\u001b[32m   5588\u001b[39m \u001b[43m        \u001b[49m\u001b[43merrors\u001b[49m\u001b[43m=\u001b[49m\u001b[43merrors\u001b[49m\u001b[43m,\u001b[49m\n\u001b[32m   5589\u001b[39m \u001b[43m    \u001b[49m\u001b[43m)\u001b[49m\n",
      "\u001b[36mFile \u001b[39m\u001b[32m~/Documents/GitHub/cvd-net-pipeline/venv/lib/python3.12/site-packages/pandas/core/generic.py:4788\u001b[39m, in \u001b[36mNDFrame.drop\u001b[39m\u001b[34m(self, labels, axis, index, columns, level, inplace, errors)\u001b[39m\n\u001b[32m   4786\u001b[39m \u001b[38;5;28;01mfor\u001b[39;00m axis, labels \u001b[38;5;129;01min\u001b[39;00m axes.items():\n\u001b[32m   4787\u001b[39m     \u001b[38;5;28;01mif\u001b[39;00m labels \u001b[38;5;129;01mis\u001b[39;00m \u001b[38;5;129;01mnot\u001b[39;00m \u001b[38;5;28;01mNone\u001b[39;00m:\n\u001b[32m-> \u001b[39m\u001b[32m4788\u001b[39m         obj = \u001b[43mobj\u001b[49m\u001b[43m.\u001b[49m\u001b[43m_drop_axis\u001b[49m\u001b[43m(\u001b[49m\u001b[43mlabels\u001b[49m\u001b[43m,\u001b[49m\u001b[43m \u001b[49m\u001b[43maxis\u001b[49m\u001b[43m,\u001b[49m\u001b[43m \u001b[49m\u001b[43mlevel\u001b[49m\u001b[43m=\u001b[49m\u001b[43mlevel\u001b[49m\u001b[43m,\u001b[49m\u001b[43m \u001b[49m\u001b[43merrors\u001b[49m\u001b[43m=\u001b[49m\u001b[43merrors\u001b[49m\u001b[43m)\u001b[49m\n\u001b[32m   4790\u001b[39m \u001b[38;5;28;01mif\u001b[39;00m inplace:\n\u001b[32m   4791\u001b[39m     \u001b[38;5;28mself\u001b[39m._update_inplace(obj)\n",
      "\u001b[36mFile \u001b[39m\u001b[32m~/Documents/GitHub/cvd-net-pipeline/venv/lib/python3.12/site-packages/pandas/core/generic.py:4830\u001b[39m, in \u001b[36mNDFrame._drop_axis\u001b[39m\u001b[34m(self, labels, axis, level, errors, only_slice)\u001b[39m\n\u001b[32m   4828\u001b[39m         new_axis = axis.drop(labels, level=level, errors=errors)\n\u001b[32m   4829\u001b[39m     \u001b[38;5;28;01melse\u001b[39;00m:\n\u001b[32m-> \u001b[39m\u001b[32m4830\u001b[39m         new_axis = \u001b[43maxis\u001b[49m\u001b[43m.\u001b[49m\u001b[43mdrop\u001b[49m\u001b[43m(\u001b[49m\u001b[43mlabels\u001b[49m\u001b[43m,\u001b[49m\u001b[43m \u001b[49m\u001b[43merrors\u001b[49m\u001b[43m=\u001b[49m\u001b[43merrors\u001b[49m\u001b[43m)\u001b[49m\n\u001b[32m   4831\u001b[39m     indexer = axis.get_indexer(new_axis)\n\u001b[32m   4833\u001b[39m \u001b[38;5;66;03m# Case for non-unique axis\u001b[39;00m\n\u001b[32m   4834\u001b[39m \u001b[38;5;28;01melse\u001b[39;00m:\n",
      "\u001b[36mFile \u001b[39m\u001b[32m~/Documents/GitHub/cvd-net-pipeline/venv/lib/python3.12/site-packages/pandas/core/indexes/base.py:7070\u001b[39m, in \u001b[36mIndex.drop\u001b[39m\u001b[34m(self, labels, errors)\u001b[39m\n\u001b[32m   7068\u001b[39m \u001b[38;5;28;01mif\u001b[39;00m mask.any():\n\u001b[32m   7069\u001b[39m     \u001b[38;5;28;01mif\u001b[39;00m errors != \u001b[33m\"\u001b[39m\u001b[33mignore\u001b[39m\u001b[33m\"\u001b[39m:\n\u001b[32m-> \u001b[39m\u001b[32m7070\u001b[39m         \u001b[38;5;28;01mraise\u001b[39;00m \u001b[38;5;167;01mKeyError\u001b[39;00m(\u001b[33mf\u001b[39m\u001b[33m\"\u001b[39m\u001b[38;5;132;01m{\u001b[39;00mlabels[mask].tolist()\u001b[38;5;132;01m}\u001b[39;00m\u001b[33m not found in axis\u001b[39m\u001b[33m\"\u001b[39m)\n\u001b[32m   7071\u001b[39m     indexer = indexer[~mask]\n\u001b[32m   7072\u001b[39m \u001b[38;5;28;01mreturn\u001b[39;00m \u001b[38;5;28mself\u001b[39m.delete(indexer)\n",
      "\u001b[31mKeyError\u001b[39m: '[-1] not found in axis'"
     ]
    }
   ],
   "source": [
    "rv_file = pd.read_csv(f\"{problem_file_dir}/pressure_traces_rv/all_pressure_traces.csv\")\n",
    "\n",
    "ar_file = pd.read_csv(f\"{problem_file_dir}/pressure_traces_pat/all_pressure_traces.csv\")\n",
    "\n",
    "\n",
    "# unpack sigmas\n",
    "sigma_filter_pressure, sigma_filter_dpdt, sigma_filter_d2pdt2 = gaussian_sigmas\n",
    "\n",
    "# Here takes all Pressure traces from step 1\n",
    "\n",
    "all_pressure_traces = pd.DataFrame()\n",
    "for ind in range(1450,1600):\n",
    "    if ind % 1 == 0:\n",
    "        print(f\"Processing {ind}th trace\")\n",
    "    dt = rv_file.loc[ind, 'dt']\n",
    "    f = rv_file.iloc[[ind], :100].T\n",
    "    f_repeated = pd.concat([f] * 5, axis=0, ignore_index=True)\n",
    "    f_repeated.columns = [\"Pressure\"]\n",
    "    f_repeated[\"cPressure\"] = f_repeated['Pressure']\n",
    "\n",
    "    ag = analyseGiessen(df=f_repeated, t_resolution=dt)\n",
    "    ag.sigma_filter_pressure = sigma_filter_pressure\n",
    "    ag.sigma_filter_dpdt     = sigma_filter_dpdt\n",
    "    ag.sigma_filter_d2pdt2   = sigma_filter_d2pdt2\n",
    "\n",
    "    ag.compute_derivatives()\n",
    "    # Should change start_at_edp bask to False\n",
    "    ag.compute_points_of_interest(height=10, use_filter=False, start_at_edp=False) # , export_true_derivates=True, export_true_p=True, distance=90 (we should consder adding these options)\n",
    "    beats = pd.DataFrame(ag.resample_heart_beat())\n",
    "    sumstats = ag.points_df\n"
   ]
  },
  {
   "cell_type": "code",
   "execution_count": null,
   "id": "3cdd55ef",
   "metadata": {},
   "outputs": [],
   "source": [
    "input_samples = pd.read_csv(\"output_synthetic/output_4096_7_params/bayesian_calibration_results/102_output_keys/calibration_20250818_155513/posterior_samples.csv\")"
   ]
  },
  {
   "cell_type": "code",
   "execution_count": null,
   "id": "040db26e",
   "metadata": {},
   "outputs": [
    {
     "data": {
      "application/vnd.microsoft.datawrangler.viewer.v0+json": {
       "columns": [
        {
         "name": "index",
         "rawType": "int64",
         "type": "integer"
        },
        {
         "name": "pat.r",
         "rawType": "float64",
         "type": "float"
        },
        {
         "name": "pat.c",
         "rawType": "float64",
         "type": "float"
        },
        {
         "name": "rv.E_pas",
         "rawType": "float64",
         "type": "float"
        },
        {
         "name": "rv.E_act",
         "rawType": "float64",
         "type": "float"
        },
        {
         "name": "rv.k_pas",
         "rawType": "float64",
         "type": "float"
        },
        {
         "name": "ra.k_pas",
         "rawType": "float64",
         "type": "float"
        },
        {
         "name": "T",
         "rawType": "float64",
         "type": "float"
        }
       ],
       "ref": "ced00b25-33c7-4275-8af6-c9e5134476e8",
       "rows": [
        [
         "1503",
         "0.4027010781656023",
         "2.544127273383843",
         "0.5407607398911874",
         "1.3401316677258353",
         "0.0145094964133713",
         "0.0226002467482881",
         "0.4327297829616606"
        ],
        [
         "1504",
         "0.478719435836156",
         "4.1359637687516795",
         "-0.186081733717456",
         "0.8503773254551117",
         "0.0267819300453027",
         "0.024646701247068",
         "0.5236304693121766"
        ]
       ],
       "shape": {
        "columns": 7,
        "rows": 2
       }
      },
      "text/html": [
       "<div>\n",
       "<style scoped>\n",
       "    .dataframe tbody tr th:only-of-type {\n",
       "        vertical-align: middle;\n",
       "    }\n",
       "\n",
       "    .dataframe tbody tr th {\n",
       "        vertical-align: top;\n",
       "    }\n",
       "\n",
       "    .dataframe thead th {\n",
       "        text-align: right;\n",
       "    }\n",
       "</style>\n",
       "<table border=\"1\" class=\"dataframe\">\n",
       "  <thead>\n",
       "    <tr style=\"text-align: right;\">\n",
       "      <th></th>\n",
       "      <th>pat.r</th>\n",
       "      <th>pat.c</th>\n",
       "      <th>rv.E_pas</th>\n",
       "      <th>rv.E_act</th>\n",
       "      <th>rv.k_pas</th>\n",
       "      <th>ra.k_pas</th>\n",
       "      <th>T</th>\n",
       "    </tr>\n",
       "  </thead>\n",
       "  <tbody>\n",
       "    <tr>\n",
       "      <th>1503</th>\n",
       "      <td>0.402701</td>\n",
       "      <td>2.544127</td>\n",
       "      <td>0.540761</td>\n",
       "      <td>1.340132</td>\n",
       "      <td>0.014509</td>\n",
       "      <td>0.022600</td>\n",
       "      <td>0.43273</td>\n",
       "    </tr>\n",
       "    <tr>\n",
       "      <th>1504</th>\n",
       "      <td>0.478719</td>\n",
       "      <td>4.135964</td>\n",
       "      <td>-0.186082</td>\n",
       "      <td>0.850377</td>\n",
       "      <td>0.026782</td>\n",
       "      <td>0.024647</td>\n",
       "      <td>0.52363</td>\n",
       "    </tr>\n",
       "  </tbody>\n",
       "</table>\n",
       "</div>"
      ],
      "text/plain": [
       "         pat.r     pat.c  rv.E_pas  rv.E_act  rv.k_pas  ra.k_pas        T\n",
       "1503  0.402701  2.544127  0.540761  1.340132  0.014509  0.022600  0.43273\n",
       "1504  0.478719  4.135964 -0.186082  0.850377  0.026782  0.024647  0.52363"
      ]
     },
     "execution_count": 25,
     "metadata": {},
     "output_type": "execute_result"
    }
   ],
   "source": [
    "input_samples[1503:1505:]"
   ]
  },
  {
   "cell_type": "code",
   "execution_count": null,
   "id": "9160edcd",
   "metadata": {},
   "outputs": [
    {
     "data": {
      "application/vnd.microsoft.datawrangler.viewer.v0+json": {
       "columns": [
        {
         "name": "index",
         "rawType": "int64",
         "type": "integer"
        },
        {
         "name": "0",
         "rawType": "float64",
         "type": "float"
        },
        {
         "name": "1",
         "rawType": "float64",
         "type": "float"
        },
        {
         "name": "2",
         "rawType": "float64",
         "type": "float"
        },
        {
         "name": "3",
         "rawType": "float64",
         "type": "float"
        },
        {
         "name": "4",
         "rawType": "float64",
         "type": "float"
        },
        {
         "name": "5",
         "rawType": "float64",
         "type": "float"
        },
        {
         "name": "6",
         "rawType": "float64",
         "type": "float"
        },
        {
         "name": "7",
         "rawType": "float64",
         "type": "float"
        },
        {
         "name": "8",
         "rawType": "float64",
         "type": "float"
        },
        {
         "name": "9",
         "rawType": "float64",
         "type": "float"
        },
        {
         "name": "10",
         "rawType": "float64",
         "type": "float"
        },
        {
         "name": "11",
         "rawType": "float64",
         "type": "float"
        },
        {
         "name": "12",
         "rawType": "float64",
         "type": "float"
        },
        {
         "name": "13",
         "rawType": "float64",
         "type": "float"
        },
        {
         "name": "14",
         "rawType": "float64",
         "type": "float"
        },
        {
         "name": "15",
         "rawType": "float64",
         "type": "float"
        },
        {
         "name": "16",
         "rawType": "float64",
         "type": "float"
        },
        {
         "name": "17",
         "rawType": "float64",
         "type": "float"
        },
        {
         "name": "18",
         "rawType": "float64",
         "type": "float"
        },
        {
         "name": "19",
         "rawType": "float64",
         "type": "float"
        },
        {
         "name": "20",
         "rawType": "float64",
         "type": "float"
        },
        {
         "name": "21",
         "rawType": "float64",
         "type": "float"
        },
        {
         "name": "22",
         "rawType": "float64",
         "type": "float"
        },
        {
         "name": "23",
         "rawType": "float64",
         "type": "float"
        },
        {
         "name": "24",
         "rawType": "float64",
         "type": "float"
        },
        {
         "name": "25",
         "rawType": "float64",
         "type": "float"
        },
        {
         "name": "26",
         "rawType": "float64",
         "type": "float"
        },
        {
         "name": "27",
         "rawType": "float64",
         "type": "float"
        },
        {
         "name": "28",
         "rawType": "float64",
         "type": "float"
        },
        {
         "name": "29",
         "rawType": "float64",
         "type": "float"
        },
        {
         "name": "30",
         "rawType": "float64",
         "type": "float"
        },
        {
         "name": "31",
         "rawType": "float64",
         "type": "float"
        },
        {
         "name": "32",
         "rawType": "float64",
         "type": "float"
        },
        {
         "name": "33",
         "rawType": "float64",
         "type": "float"
        },
        {
         "name": "34",
         "rawType": "float64",
         "type": "float"
        },
        {
         "name": "35",
         "rawType": "float64",
         "type": "float"
        },
        {
         "name": "36",
         "rawType": "float64",
         "type": "float"
        },
        {
         "name": "37",
         "rawType": "float64",
         "type": "float"
        },
        {
         "name": "38",
         "rawType": "float64",
         "type": "float"
        },
        {
         "name": "39",
         "rawType": "float64",
         "type": "float"
        },
        {
         "name": "40",
         "rawType": "float64",
         "type": "float"
        },
        {
         "name": "41",
         "rawType": "float64",
         "type": "float"
        },
        {
         "name": "42",
         "rawType": "float64",
         "type": "float"
        },
        {
         "name": "43",
         "rawType": "float64",
         "type": "float"
        },
        {
         "name": "44",
         "rawType": "float64",
         "type": "float"
        },
        {
         "name": "45",
         "rawType": "float64",
         "type": "float"
        },
        {
         "name": "46",
         "rawType": "float64",
         "type": "float"
        },
        {
         "name": "47",
         "rawType": "float64",
         "type": "float"
        },
        {
         "name": "48",
         "rawType": "float64",
         "type": "float"
        },
        {
         "name": "49",
         "rawType": "float64",
         "type": "float"
        },
        {
         "name": "50",
         "rawType": "float64",
         "type": "float"
        },
        {
         "name": "51",
         "rawType": "float64",
         "type": "float"
        },
        {
         "name": "52",
         "rawType": "float64",
         "type": "float"
        },
        {
         "name": "53",
         "rawType": "float64",
         "type": "float"
        },
        {
         "name": "54",
         "rawType": "float64",
         "type": "float"
        },
        {
         "name": "55",
         "rawType": "float64",
         "type": "float"
        },
        {
         "name": "56",
         "rawType": "float64",
         "type": "float"
        },
        {
         "name": "57",
         "rawType": "float64",
         "type": "float"
        },
        {
         "name": "58",
         "rawType": "float64",
         "type": "float"
        },
        {
         "name": "59",
         "rawType": "float64",
         "type": "float"
        },
        {
         "name": "60",
         "rawType": "float64",
         "type": "float"
        },
        {
         "name": "61",
         "rawType": "float64",
         "type": "float"
        },
        {
         "name": "62",
         "rawType": "float64",
         "type": "float"
        },
        {
         "name": "63",
         "rawType": "float64",
         "type": "float"
        },
        {
         "name": "64",
         "rawType": "float64",
         "type": "float"
        },
        {
         "name": "65",
         "rawType": "float64",
         "type": "float"
        },
        {
         "name": "66",
         "rawType": "float64",
         "type": "float"
        },
        {
         "name": "67",
         "rawType": "float64",
         "type": "float"
        },
        {
         "name": "68",
         "rawType": "float64",
         "type": "float"
        },
        {
         "name": "69",
         "rawType": "float64",
         "type": "float"
        },
        {
         "name": "70",
         "rawType": "float64",
         "type": "float"
        },
        {
         "name": "71",
         "rawType": "float64",
         "type": "float"
        },
        {
         "name": "72",
         "rawType": "float64",
         "type": "float"
        },
        {
         "name": "73",
         "rawType": "float64",
         "type": "float"
        },
        {
         "name": "74",
         "rawType": "float64",
         "type": "float"
        },
        {
         "name": "75",
         "rawType": "float64",
         "type": "float"
        },
        {
         "name": "76",
         "rawType": "float64",
         "type": "float"
        },
        {
         "name": "77",
         "rawType": "float64",
         "type": "float"
        },
        {
         "name": "78",
         "rawType": "float64",
         "type": "float"
        },
        {
         "name": "79",
         "rawType": "float64",
         "type": "float"
        },
        {
         "name": "80",
         "rawType": "float64",
         "type": "float"
        },
        {
         "name": "81",
         "rawType": "float64",
         "type": "float"
        },
        {
         "name": "82",
         "rawType": "float64",
         "type": "float"
        },
        {
         "name": "83",
         "rawType": "float64",
         "type": "float"
        },
        {
         "name": "84",
         "rawType": "float64",
         "type": "float"
        },
        {
         "name": "85",
         "rawType": "float64",
         "type": "float"
        },
        {
         "name": "86",
         "rawType": "float64",
         "type": "float"
        },
        {
         "name": "87",
         "rawType": "float64",
         "type": "float"
        },
        {
         "name": "88",
         "rawType": "float64",
         "type": "float"
        },
        {
         "name": "89",
         "rawType": "float64",
         "type": "float"
        },
        {
         "name": "90",
         "rawType": "float64",
         "type": "float"
        },
        {
         "name": "91",
         "rawType": "float64",
         "type": "float"
        },
        {
         "name": "92",
         "rawType": "float64",
         "type": "float"
        },
        {
         "name": "93",
         "rawType": "float64",
         "type": "float"
        },
        {
         "name": "94",
         "rawType": "float64",
         "type": "float"
        },
        {
         "name": "95",
         "rawType": "float64",
         "type": "float"
        },
        {
         "name": "96",
         "rawType": "float64",
         "type": "float"
        },
        {
         "name": "97",
         "rawType": "float64",
         "type": "float"
        },
        {
         "name": "98",
         "rawType": "float64",
         "type": "float"
        },
        {
         "name": "99",
         "rawType": "float64",
         "type": "float"
        },
        {
         "name": "CO",
         "rawType": "float64",
         "type": "float"
        },
        {
         "name": "dt",
         "rawType": "float64",
         "type": "float"
        },
        {
         "name": "EF",
         "rawType": "float64",
         "type": "float"
        },
        {
         "name": "dPAP",
         "rawType": "float64",
         "type": "float"
        },
        {
         "name": "sPAP",
         "rawType": "float64",
         "type": "float"
        },
        {
         "name": "mPAP",
         "rawType": "float64",
         "type": "float"
        }
       ],
       "ref": "db990d59-c6bf-454c-8c0d-826a298119d0",
       "rows": [
        [
         "1503",
         "0.6344809357283371",
         "0.8332519859028606",
         "1.426942256435212",
         "2.408916360368263",
         "3.768198566323959",
         "5.489597549023918",
         "7.553875964429322",
         "9.93796619803692",
         "12.615225994084229",
         "15.555738434214987",
         "18.72666413307853",
         "22.092683879732917",
         "25.554578022116846",
         "28.72725577883487",
         "31.368413157512357",
         "33.17469910333783",
         "34.11589211973925",
         "34.384758339083476",
         "34.24807340414561",
         "33.92205293261092",
         "33.550120794431244",
         "33.2332216183554",
         "33.04022764853166",
         "32.99808966859927",
         "33.08548909855535",
         "33.240844596570966",
         "33.384615219709985",
         "33.44851245222202",
         "33.399165779505964",
         "33.24543559034169",
         "33.00633248034051",
         "32.386876246666745",
         "31.10076949442208",
         "29.16897744338559",
         "26.67762241648309",
         "23.737763482146804",
         "20.480447586598675",
         "17.050870245419166",
         "13.601905891640609",
         "10.287296051262931",
         "7.254964487586581",
         "4.640345249282969",
         "2.5598012762126245",
         "1.1060589432576815",
         "0.3442547313302426",
         "0.2393181817087569",
         "0.2464656703756132",
         "0.2532965316544172",
         "0.259810474669997",
         "0.2660085519577248",
         "0.2718931143434605",
         "0.2774682357633819",
         "0.2827398120877221",
         "0.2877153560134292",
         "0.292404238676879",
         "0.2968177496591305",
         "0.3009691158617466",
         "0.3048734612244956",
         "0.3085476876559884",
         "0.3120102591660563",
         "0.3152807756609093",
         "0.3183798118964698",
         "0.3213282382622571",
         "0.3241465660009572",
         "0.3268544623063982",
         "0.329470256264134",
         "0.3320105618979715",
         "0.3344900471231895",
         "0.3369213513758503",
         "0.3393151320555693",
         "0.3416801914455811",
         "0.3440237247561102",
         "0.3463514998231643",
         "0.3486680890775204",
         "0.3509770889355635",
         "0.353281306570106",
         "0.3555829193429591",
         "0.3578836072782247",
         "0.3601846609349787",
         "0.3624870678843683",
         "0.3647915833470154",
         "0.3670987788967098",
         "0.3694090874462148",
         "0.3717228361611242",
         "0.3740402710915346",
         "0.38191718846467",
         "0.4073490498648542",
         "0.4474305643367514",
         "0.4959408785938387",
         "0.5452893363185578",
         "0.588128206277918",
         "0.6183800687442261",
         "0.6279514953737203",
         "0.6279514932223166",
         "0.6279514932293087",
         "0.6279514932293087",
         "0.6279514932293087",
         "0.6279514932293087",
         "0.6279514932293087",
         "0.6279514932293087",
         "4.069966768299628",
         "0.0043710079087038",
         "0.3088062743353731",
         "0.2359992714056303",
         "34.38564695664285",
         "9.721105224550191"
        ],
        [
         "1504",
         "-24.090281316378235",
         "-31.89703391579702",
         "-43.33724530194444",
         "-62.42008510887719",
         "-99.61838746063128",
         "-189.56369402130284",
         "-508.4593623249607",
         "-3944.2558788179344",
         null,
         null,
         null,
         null,
         null,
         null,
         null,
         null,
         null,
         null,
         null,
         null,
         null,
         null,
         null,
         null,
         null,
         null,
         null,
         null,
         null,
         null,
         null,
         null,
         null,
         null,
         null,
         null,
         null,
         null,
         null,
         null,
         null,
         null,
         null,
         null,
         null,
         null,
         null,
         null,
         null,
         null,
         null,
         null,
         null,
         null,
         null,
         null,
         null,
         null,
         null,
         null,
         null,
         null,
         null,
         null,
         null,
         null,
         null,
         null,
         null,
         null,
         null,
         null,
         null,
         null,
         null,
         null,
         null,
         null,
         null,
         null,
         null,
         null,
         null,
         null,
         null,
         null,
         null,
         null,
         null,
         null,
         null,
         null,
         null,
         null,
         null,
         null,
         null,
         null,
         null,
         null,
         null,
         "0.005289196659719",
         null,
         "-883063.0294563372",
         "-24.090281316378235",
         null
        ]
       ],
       "shape": {
        "columns": 106,
        "rows": 2
       }
      },
      "text/html": [
       "<div>\n",
       "<style scoped>\n",
       "    .dataframe tbody tr th:only-of-type {\n",
       "        vertical-align: middle;\n",
       "    }\n",
       "\n",
       "    .dataframe tbody tr th {\n",
       "        vertical-align: top;\n",
       "    }\n",
       "\n",
       "    .dataframe thead th {\n",
       "        text-align: right;\n",
       "    }\n",
       "</style>\n",
       "<table border=\"1\" class=\"dataframe\">\n",
       "  <thead>\n",
       "    <tr style=\"text-align: right;\">\n",
       "      <th></th>\n",
       "      <th>0</th>\n",
       "      <th>1</th>\n",
       "      <th>2</th>\n",
       "      <th>3</th>\n",
       "      <th>4</th>\n",
       "      <th>5</th>\n",
       "      <th>6</th>\n",
       "      <th>7</th>\n",
       "      <th>8</th>\n",
       "      <th>9</th>\n",
       "      <th>...</th>\n",
       "      <th>96</th>\n",
       "      <th>97</th>\n",
       "      <th>98</th>\n",
       "      <th>99</th>\n",
       "      <th>CO</th>\n",
       "      <th>dt</th>\n",
       "      <th>EF</th>\n",
       "      <th>dPAP</th>\n",
       "      <th>sPAP</th>\n",
       "      <th>mPAP</th>\n",
       "    </tr>\n",
       "  </thead>\n",
       "  <tbody>\n",
       "    <tr>\n",
       "      <th>1503</th>\n",
       "      <td>0.634481</td>\n",
       "      <td>0.833252</td>\n",
       "      <td>1.426942</td>\n",
       "      <td>2.408916</td>\n",
       "      <td>3.768199</td>\n",
       "      <td>5.489598</td>\n",
       "      <td>7.553876</td>\n",
       "      <td>9.937966</td>\n",
       "      <td>12.615226</td>\n",
       "      <td>15.555738</td>\n",
       "      <td>...</td>\n",
       "      <td>0.627951</td>\n",
       "      <td>0.627951</td>\n",
       "      <td>0.627951</td>\n",
       "      <td>0.627951</td>\n",
       "      <td>4.069967</td>\n",
       "      <td>0.004371</td>\n",
       "      <td>0.308806</td>\n",
       "      <td>0.235999</td>\n",
       "      <td>34.385647</td>\n",
       "      <td>9.721105</td>\n",
       "    </tr>\n",
       "    <tr>\n",
       "      <th>1504</th>\n",
       "      <td>-24.090281</td>\n",
       "      <td>-31.897034</td>\n",
       "      <td>-43.337245</td>\n",
       "      <td>-62.420085</td>\n",
       "      <td>-99.618387</td>\n",
       "      <td>-189.563694</td>\n",
       "      <td>-508.459362</td>\n",
       "      <td>-3944.255879</td>\n",
       "      <td>NaN</td>\n",
       "      <td>NaN</td>\n",
       "      <td>...</td>\n",
       "      <td>NaN</td>\n",
       "      <td>NaN</td>\n",
       "      <td>NaN</td>\n",
       "      <td>NaN</td>\n",
       "      <td>NaN</td>\n",
       "      <td>0.005289</td>\n",
       "      <td>NaN</td>\n",
       "      <td>-883063.029456</td>\n",
       "      <td>-24.090281</td>\n",
       "      <td>NaN</td>\n",
       "    </tr>\n",
       "  </tbody>\n",
       "</table>\n",
       "<p>2 rows × 106 columns</p>\n",
       "</div>"
      ],
      "text/plain": [
       "              0          1          2          3          4           5  \\\n",
       "1503   0.634481   0.833252   1.426942   2.408916   3.768199    5.489598   \n",
       "1504 -24.090281 -31.897034 -43.337245 -62.420085 -99.618387 -189.563694   \n",
       "\n",
       "               6            7          8          9  ...        96        97  \\\n",
       "1503    7.553876     9.937966  12.615226  15.555738  ...  0.627951  0.627951   \n",
       "1504 -508.459362 -3944.255879        NaN        NaN  ...       NaN       NaN   \n",
       "\n",
       "            98        99        CO        dt        EF           dPAP  \\\n",
       "1503  0.627951  0.627951  4.069967  0.004371  0.308806       0.235999   \n",
       "1504       NaN       NaN       NaN  0.005289       NaN -883063.029456   \n",
       "\n",
       "           sPAP      mPAP  \n",
       "1503  34.385647  9.721105  \n",
       "1504 -24.090281       NaN  \n",
       "\n",
       "[2 rows x 106 columns]"
      ]
     },
     "execution_count": 21,
     "metadata": {},
     "output_type": "execute_result"
    }
   ],
   "source": [
    "rv_file[1503:1505:]"
   ]
  }
 ],
 "metadata": {
  "kernelspec": {
   "display_name": "venv",
   "language": "python",
   "name": "python3"
  },
  "language_info": {
   "codemirror_mode": {
    "name": "ipython",
    "version": 3
   },
   "file_extension": ".py",
   "mimetype": "text/x-python",
   "name": "python",
   "nbconvert_exporter": "python",
   "pygments_lexer": "ipython3",
   "version": "3.12.7"
  }
 },
 "nbformat": 4,
 "nbformat_minor": 5
}
