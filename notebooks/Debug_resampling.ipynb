{
 "cells": [
  {
   "cell_type": "code",
   "execution_count": 1,
   "id": "282e24dd",
   "metadata": {},
   "outputs": [],
   "source": [
    "import numpy as np  \n",
    "import pandas as pd \n",
    "from analyse_giessen import analyseGiessen\n",
    "import matplotlib.pyplot as plt\n",
    "import os\n",
    "from ModularCirc.Models.KorakianitisMixedModel import KorakianitisMixedModel, KorakianitisMixedModel_parameters, TEMPLATE_TIME_SETUP_DICT\n",
    "from ModularCirc import BatchRunner\n",
    "from utils import helper_functions, plot_utils"
   ]
  },
  {
   "cell_type": "code",
   "execution_count": 51,
   "id": "33aad98a",
   "metadata": {},
   "outputs": [
    {
     "name": "stderr",
     "output_type": "stream",
     "text": [
      "/Users/pmzff/Documents/GitHub/cvd-net-pipeline/venv/lib/python3.12/site-packages/scipy/stats/_qmc.py:993: UserWarning: The balance properties of Sobol' points require n to be a power of 2.\n",
      "  sample = self._random(n, workers=workers)\n"
     ]
    }
   ],
   "source": [
    "br = BatchRunner('Sobol', 0)\n",
    "br.setup_sampler(\"../input_parameters_jsons/parameters_sensitive_timeseries_7.json\")\n",
    "br.sample(10)\n"
   ]
  },
  {
   "cell_type": "code",
   "execution_count": 66,
   "id": "83cedc19",
   "metadata": {},
   "outputs": [],
   "source": [
    "posterior_samples = pd.read_csv(\"../output_synthetic/output_4096_7_params/bayesian_calibration_results/102_output_keys/calibration_20250822_101855/posterior_samples.csv\")\n",
    "cleaned_posterior_samples = posterior_samples[(posterior_samples >= 0).all(axis=1)]"
   ]
  },
  {
   "cell_type": "code",
   "execution_count": 67,
   "id": "f8d12b56",
   "metadata": {},
   "outputs": [],
   "source": [
    "# see differences in two dataframes"
   ]
  },
  {
   "cell_type": "code",
   "execution_count": 70,
   "id": "dffc5525",
   "metadata": {},
   "outputs": [
    {
     "name": "stdout",
     "output_type": "stream",
     "text": [
      "The following posterior_samples were removed due to negativity: [521, 525, 1504, 2455, 3813]\n"
     ]
    },
    {
     "data": {
      "text/plain": [
       "set"
      ]
     },
     "execution_count": 70,
     "metadata": {},
     "output_type": "execute_result"
    }
   ],
   "source": [
    " # Flag number of osterior samples that were removed during cleaning\n",
    "missing_indices = set(posterior_samples.index) - set(cleaned_posterior_samples.index)\n",
    "if missing_indices:\n",
    "    print(f\"The following posterior_samples were removed due to negativity: {sorted(missing_indices)}\")\n",
    "else:\n",
    "    print(\"All posterior samples used.\")\n",
    "\n",
    "type(missing_indices)"
   ]
  },
  {
   "cell_type": "code",
   "execution_count": null,
   "id": "b045da29",
   "metadata": {},
   "outputs": [],
   "source": [
    "\n",
    "# Flag and remove any negative pressure traces\n",
    "negative_indices = df[(df < 0).any(axis=1)].index\n",
    "\n",
    "\n",
    "if not negative_indices.empty:\n",
    "    print(f\"Removing {len(negative_indices)} negative RV pressure traces at indices: {negative_indices.tolist()}\")\n",
    "    rv_file = df.drop(index=negative_indices).reset_index(drop=True)\n",
    "rv_file"
   ]
  }
 ],
 "metadata": {
  "kernelspec": {
   "display_name": "venv",
   "language": "python",
   "name": "python3"
  },
  "language_info": {
   "codemirror_mode": {
    "name": "ipython",
    "version": 3
   },
   "file_extension": ".py",
   "mimetype": "text/x-python",
   "name": "python",
   "nbconvert_exporter": "python",
   "pygments_lexer": "ipython3",
   "version": "3.12.7"
  }
 },
 "nbformat": 4,
 "nbformat_minor": 5
}
