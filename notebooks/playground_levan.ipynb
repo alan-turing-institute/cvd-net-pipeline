{
 "cells": [
  {
   "cell_type": "code",
   "execution_count": 2,
   "id": "ff097637",
   "metadata": {},
   "outputs": [],
   "source": [
    "import pandas as pd\n",
    "from pandas.testing import assert_frame_equal\n",
    "\n",
    "df1 = pd.DataFrame({'A': [1, 2, 3], 'B': [4, 5, 6]})\n",
    "df2 = pd.DataFrame({'A': [1, 2, 3], 'B': [4, 5, 6]})\n",
    "\n",
    "# This will pass silently, meaning both DataFrames are identical\n",
    "assert_frame_equal(df1, df2)"
   ]
  },
  {
   "cell_type": "code",
   "execution_count": 3,
   "id": "f25a96eb",
   "metadata": {},
   "outputs": [],
   "source": [
    "df3 = pd.DataFrame({'A': [1, 2, 3], 'B': [4.0, 5.0, 6.0]})  # Column B has floats\n",
    "\n",
    "# This will fail due to dtype mismatch\n",
    "# assert_frame_equal(df1, df3)\n",
    "\n",
    "# Ignore dtype differences\n",
    "assert_frame_equal(df1, df3, check_dtype=False)  # ✅ Passes"
   ]
  },
  {
   "cell_type": "code",
   "execution_count": 4,
   "id": "648dc988",
   "metadata": {},
   "outputs": [
    {
     "name": "stdout",
     "output_type": "stream",
     "text": [
      "0.0017068934705964682\n"
     ]
    }
   ],
   "source": [
    "df1 = pd.DataFrame({'A': [1, 2, 3], 'B': [0.1706893470596468, 5, 6]})\n",
    "\n",
    "df5 = pd.DataFrame({'A': [1, 2, 3], 'B': [0.1705159672691371, 5.000001, 6.000001]})\n",
    "\n",
    "print(0.1706893470596468 * 1e-2)\n",
    "\n",
    "# This will fail due to minor floating-point differences\n",
    "# assert_frame_equal(df1, df5)\n",
    "\n",
    "# Fix: Allow a small tolerance\n",
    "assert_frame_equal(df1, df5, check_dtype=False, check_exact=False, rtol=1e-2)  # ✅ Passes"
   ]
  }
 ],
 "metadata": {
  "kernelspec": {
   "display_name": "venv",
   "language": "python",
   "name": "python3"
  },
  "language_info": {
   "codemirror_mode": {
    "name": "ipython",
    "version": 3
   },
   "file_extension": ".py",
   "mimetype": "text/x-python",
   "name": "python",
   "nbconvert_exporter": "python",
   "pygments_lexer": "ipython3",
   "version": "3.13.5"
  }
 },
 "nbformat": 4,
 "nbformat_minor": 5
}
