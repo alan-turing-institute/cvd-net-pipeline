{
 "cells": [
  {
   "cell_type": "markdown",
   "id": "cec51fb4",
   "metadata": {},
   "source": [
    "### Investigating use of KF to recover parameters"
   ]
  },
  {
   "cell_type": "code",
   "execution_count": 3,
   "id": "b5498537",
   "metadata": {},
   "outputs": [],
   "source": [
    "import os\n",
    "from ModularCirc.Models.KorakianitisMixedModel import KorakianitisMixedModel, KorakianitisMixedModel_parameters, TEMPLATE_TIME_SETUP_DICT\n",
    "from ModularCirc import BatchRunner\n",
    "import numpy as np\n",
    "import pandas as pd\n",
    "from cvdnet_pipeline.utils import helper_functions, plot_utils\n"
   ]
  },
  {
   "cell_type": "markdown",
   "id": "0184cf23",
   "metadata": {},
   "source": [
    "1. Sample parameters, 100 beats, pat.r gradually increasing/step function"
   ]
  },
  {
   "cell_type": "code",
   "execution_count": null,
   "id": "bcdb119e",
   "metadata": {},
   "outputs": [
    {
     "name": "stderr",
     "output_type": "stream",
     "text": [
      "/Users/pmzff/Documents/GitHub/cvd-net-pipeline/cvd-net-pipeline/venv/lib/python3.13/site-packages/ModularCirc/_BatchRunner.py:59: UserWarning: The balance properties of Sobol' points require n to be a power of 2.\n",
      "  samples  = self._sampler.random(nsamples)\n"
     ]
    },
    {
     "name": "stdout",
     "output_type": "stream",
     "text": [
      "Running simulation as output_synthetic/output_100_2_params.\n"
     ]
    },
    {
     "name": "stderr",
     "output_type": "stream",
     "text": [
      "100%|██████████| 100/100 [00:34<00:00,  2.90it/s]\n"
     ]
    }
   ],
   "source": [
    "# Setup\n",
    "param_path = \"input_parameters_jsons/parameters_patr_drift.JSON\"\n",
    "output_path = \"output_synthetic\"\n",
    "n_samples = 100\n",
    "repeat_simulations = False\n",
    "\n",
    "# Sample parameters or read in from file\n",
    "br = BatchRunner('Sobol', 0)\n",
    "br.setup_sampler(param_path)\n",
    "br.sample(n_samples)\n",
    "\n",
    "######## \n",
    "\n",
    "# pat.r with step function drift\n",
    "pat_r = np.zeros((n_samples,))\n",
    "for i in range(5):       \n",
    "     pat_r[i*20:(i+1)*20] = 0.3 + i*0.1\n",
    " \n",
    "#pat_r = pat_r + np.random.normal(0, 0.05, n_samples)\n",
    "pat_r = pd.DataFrame(pat_r, columns=['pat_r'])\n",
    "\n",
    "br._samples['pat.r'] = pat_r['pat_r'].\n",
    "\n",
    "########\n",
    "\n"
   ]
  },
  {
   "cell_type": "markdown",
   "id": "0f2c08ac",
   "metadata": {},
   "source": [
    "2. Simulate beats"
   ]
  },
  {
   "cell_type": "code",
   "execution_count": null,
   "id": "72068ae3",
   "metadata": {},
   "outputs": [],
   "source": [
    "# Get relevant columns  \n",
    "relevant_columns = [col for col in br._samples.columns if col in br._parameters_2_sample.keys()]\n",
    "_pure_samples = br._samples[relevant_columns].copy()\n",
    "\n",
    "\n",
    "map_ = {\n",
    "        'delay': ['la.delay', 'ra.delay'],\n",
    "        'td0': ['lv.td0', 'rv.td0'],\n",
    "        'tr': ['lv.tr', 'rv.tr'],\n",
    "        'tpww': ['la.tpww', 'ra.tpww'],\n",
    "    }\n",
    "    \n",
    "br.map_sample_timings(\n",
    "    ref_time=1.,\n",
    "    map=map_\n",
    ")\n",
    "\n",
    "br._samples[['lv.td', 'rv.td']] = br._samples[['lv.tr', 'rv.tr']].values + br._samples[['lv.td0', 'rv.td0']].values\n",
    "br._samples.drop(['lv.td0', 'rv.td0'], axis=1, inplace=True)\n",
    "\n",
    "# get relevant columns and count them\n",
    "n_params = len(relevant_columns)\n",
    "br.map_vessel_volume()\n",
    "\n",
    "br.setup_model(model=KorakianitisMixedModel, po=KorakianitisMixedModel_parameters,\n",
    "                time_setup=TEMPLATE_TIME_SETUP_DICT)\n",
    "\n",
    "file_suffix  = f'_{n_samples}_{n_params}_params'\n",
    "\n",
    "# Save samples as CSV files \n",
    "_pure_samples.to_csv(os.path.join(output_path, f'pure_input{file_suffix}.csv'), index=False)\n",
    "br.samples.to_csv(os.path.join(output_path, f'input{file_suffix}.csv'), index=False)\n",
    "\n",
    "output_parameters = os.path.join(output_path, f'output{file_suffix}')\n",
    "output_parameters_simulations = os.path.join(output_parameters,'simulations')\n",
    "\n",
    "\n",
    "# Check if the directory exists and contains n_samples files\n",
    "if os.path.exists(output_parameters_simulations) and len(os.listdir(output_parameters_simulations)) >= n_samples and repeat_simulations==False:\n",
    "    print(f\"Skipping simulation as {output_parameters} already contains {n_samples} or more files.\")\n",
    "    # read a list of dataframes from here\n",
    "    simulations = helper_functions.load_simulation(output_parameters_simulations)\n",
    "\n",
    "    if len(simulations) != n_samples:\n",
    "        raise ValueError(f\"Expected {n_samples} simulations, but found {len(simulations)}. Will run simulations again.\")\n",
    "        repeat_simulations = True\n",
    "else:\n",
    "    print(f\"Running simulation as {output_parameters}.\")\n",
    "    repeat_simulations = True\n",
    "\n",
    "\n",
    "if repeat_simulations:\n",
    "    os.makedirs(output_parameters_simulations, exist_ok=True)\n",
    "    simulations = br.run_batch(\n",
    "        n_jobs=7,\n",
    "        output_path=output_parameters_simulations\n",
    "    )"
   ]
  },
  {
   "cell_type": "markdown",
   "id": "4e117e38",
   "metadata": {},
   "source": []
  }
 ],
 "metadata": {
  "kernelspec": {
   "display_name": "venv",
   "language": "python",
   "name": "python3"
  },
  "language_info": {
   "codemirror_mode": {
    "name": "ipython",
    "version": 3
   },
   "file_extension": ".py",
   "mimetype": "text/x-python",
   "name": "python",
   "nbconvert_exporter": "python",
   "pygments_lexer": "ipython3",
   "version": "3.13.0"
  }
 },
 "nbformat": 4,
 "nbformat_minor": 5
}
